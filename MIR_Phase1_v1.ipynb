{
  "nbformat": 4,
  "nbformat_minor": 0,
  "metadata": {
    "kernelspec": {
      "display_name": "Python 3",
      "language": "python",
      "name": "python3"
    },
    "language_info": {
      "codemirror_mode": {
        "name": "ipython",
        "version": 3
      },
      "file_extension": ".py",
      "mimetype": "text/x-python",
      "name": "python",
      "nbconvert_exporter": "python",
      "pygments_lexer": "ipython3",
      "version": "3.6.9"
    },
    "colab": {
      "name": "MIR_Phase1_v1.ipynb",
      "provenance": [],
      "collapsed_sections": [],
      "include_colab_link": true
    }
  },
  "cells": [
    {
      "cell_type": "markdown",
      "metadata": {
        "id": "view-in-github",
        "colab_type": "text"
      },
      "source": [
        "<a href=\"https://colab.research.google.com/github/hesanghasemi/MIR-Project/blob/main/MIR_Phase1_v1.ipynb\" target=\"_parent\"><img src=\"https://colab.research.google.com/assets/colab-badge.svg\" alt=\"Open In Colab\"/></a>"
      ]
    },
    {
      "cell_type": "markdown",
      "metadata": {
        "id": "-b2UsRU4P9JF"
      },
      "source": [
        "<div style=\"direction:rtl;line-height:300%;\">\n",
        "<font face=\"XB Zar\" size=5>\n",
        "<div align=center>\n",
        "<font face=\"B Titr\" size=5>\n",
        "<p></p><p></p>\n",
        "بسمه تعالی\n",
        "<p></p>\n",
        "</font>\n",
        "<p></p>\n",
        "<font>\n",
        "<br>\n",
        "درس بازیابی پیشرفته اطلاعات\n",
        "<br>\n",
        "مدرس: دکتر سلیمانی\n",
        "</font>\n",
        "<p></p>\n",
        "<br>\n",
        "<font>\n",
        "<b>فاز اول پروژه</b>\n",
        "</font>\n",
        "<br>\n",
        "<br>\n",
        "موعد تحویل: ۲۸ اسفند ۱۳۹۹\n",
        "<br>\n",
        "<br>\n",
        "<font size=4.8>\n",
        "دستیاران آموزشی: نیما جمالی، آرمین سعادت، ایمان غلامی\n",
        "</font>\n",
        "<br>\n",
        "<br>\n",
        "<br>\n",
        "<font>\n",
        "دانشگاه صنعتی شریف\n",
        "<br>\n",
        "دانشکده مهندسی کامپیوتر\n",
        "<br>\n",
        "<br>\n",
        "</font>\n",
        "</div>\n",
        "</font>\n",
        "</div>"
      ]
    },
    {
      "cell_type": "markdown",
      "metadata": {
        "id": "y3YoNVsQR3zO"
      },
      "source": [
        "<p></p>\n",
        "<div dir=\"rtl\">\n",
        "<font face=\"XB Zar\" size=4>\n",
        "    <h1>\n",
        "    <b>مقدمه</b>\n",
        "    </h1>\n",
        "    <p></p>\n",
        "    <p></p>\n",
        "    هدف از فاز اول پروژه، طراحی و پیاده‌سازی سیستم بازیابی اطلاعات برای مجموعه دادگان تعیین شده می‌باشد.<br>\n",
        "    اولین مرحله، پیش‌پردازش مجموعه دادگان است. پس از آن نمایه‌ها با ویژگی‌های خواسته شده پیاده‌سازی می‌شود. در گام بعدی به ذخیره و بازخوانی نمایه‌ها به همراه روش‌های فشرده‌سازی پرداخته می‌شود. پس از آن تکنیک‌های اصلاح پرسمان پیاده‌سازی شده و در نهایت جستجو روی دادگان صورت می‌گیرد. همچنین در بخش آخر با پیاده‌سازی برخی معیارهای ارزیابی، عملکرد سیستم مورد سنجش قرار می‌گیرد.<br><br>\n",
        "     توضیحات مربوط به هر بخش در ادامه آمده است که اهداف، محدودیت‌ها و خواسته‌های آن بخش را مشخص می‌کند.\n",
        "     در هر بخش توابعی مشخص شده است که محتوای آن با کد نوشته شده توسط شما باید پر شود. شما می‌توانید در همین فایل، سیستم بازیابی خود را پیاده‌سازی کنید یا فایل‌های خودتان را ایمپورت کرده و از آن‌ها استفاده کنید. در هر صورت تمامی کدهای لازم را به همراه این نوت‌بوک ارسال کنید. همچنین در نظر داشته باشید که ملاک اصلی نمره‌دهی شما اجرای صحیح توابع مشخص‌شده در این نوت‌بوک می‌باشد. بنابراین از صحت اجرای نوت‌بوک خود اطمینان پیدا کنید.<br><br>\n",
        "     تنها زبان قابل قبول برای پروژه پایتون است. محدودیت استفاده از کتاب‌خانه‌های آماده در هر بخش مشخص شده است. پروژه ۱۱۵ نمره دارد که ۱۵ نمره از آن امتیازی و مربوط به بخش اصلاح پرسمان می‌باشد.\n",
        "    \n",
        "    \n",
        "</font>\n",
        "</div>\n",
        "<p></p>"
      ]
    },
    {
      "cell_type": "markdown",
      "metadata": {
        "id": "jaR5CS_khMQB"
      },
      "source": [
        "<div dir=\"rtl\">\n",
        "<font face=\"XB Zar\" size=4>\n",
        "    <h1>\n",
        "    <b>مجموعه دادگان</b>\n",
        "    </h1>\n",
        "    مجموعه دادگان مورد بررسی در این پروژه از سایت kaggle فراهم شده است. این مجموعه شامل اطلاعات ۶۰۰۰ فیلم سینمایی از سال ۱۹۰۴ تا ۲۰۱۷ است. داده‌ها در قالب فایل csv   دارای ستون‌‌های plot، title، id می‌باشد. id یک شناسه یکتا برای هر فیلم است که برای ارزیابی بهتر عملکرد شما به داده‌ها اضافه شده است و در مجموعه دادگان اصلی وجود نداشته است. همانطور که می‌دانید برای پیاده‌سازی نمایه باید به هر داکیومنت یک شناسه اختصاص بدهید. <b>شناسه مربوط به هر داکیومنت باید id ذکر شده برای آن در مجموعه دادگان باشد.</b> هر فیلم از دو بخش title و plot  تشکیل شده است که از این دو بخش در ساخت نمایه و جستجو استفاده می‌شود. plot خلاصه‌ای از طرح داستان فیلم است.<br>\n",
        "    علاوه بر مجموعه دادگان اصلی، تعدای پرسمان در اختیار شما قرار گرفته است. همچنین جواب مطلوب هر یک از این پرسمان‌ها نیز فراهم شده که طبیعتا زیرمجموعه‌ای از مجموعه دادگان است. شما باید از این پرسمان‌ها و نتیجه مورد انتظار هر کدام برای ارزیابی سامانه خود استفاده کنید.\n",
        "    پرسمان‌ها و شناسه فیلم‌های بازیابی شده مورد انتظار از هر پرسمان در فایل validation.json آمده است. توضیحات بیشتر در رابطه با استفاده از این فایل در بخش ارزیابی آمده است.\n",
        "</font>\n",
        "</div>"
      ]
    },
    {
      "cell_type": "markdown",
      "metadata": {
        "id": "PxNntHofmHHH"
      },
      "source": [
        "<div dir=\"rtl\">\n",
        "<font face=\"XB Zar\" size=4>\n",
        "    <h1>\n",
        "    <b>پیش‌پردازش و آماده‌سازی داده‌ها (۱۵ نمره)</b>\n",
        "    </h1>\n",
        "    در این بخش ابتدا داده‌ها را از فایل بخوانید. برای آماده‌سازی متن می‌توانید از کتاب‌خانه‌های آماده استفاده کنید. یکی از کتاب‌خانه‌های معروف برای این کار <a href=\"https://www.nltk.org/\">NLTK</a> است اما در انتخاب روش پیاده‌سازی این بخش مختارید. برای این بخش باید تابع ()prepare_text را تکمیل کنید. این تابع یک متن انگلیسی ورودی گرفته و توکن‌‌های مربوط به آن‌را در قالب یک لیست خروجی می‌دهد. متن ورودی در عمل تایتل یا طرح داستان هر فیلم است. دقت کنید که لیست خروجی شامل تعدادی توکن است که عملیات case folding، stemming و lemmatization روی آن‌ها اجرا شده است. در ضمن علائم نگارشی نباید به عنوان توکن در نظر گرفته شود. در کد زیر یک نمونه ورودی و خروجی نمایش داده شده است. با توجه به نحوه پیاده‌سازی انواع بازگردانی به ریشه قابل قبول است.\n",
        "</font>\n",
        "</div>"
      ]
    },
    {
      "cell_type": "code",
      "metadata": {
        "id": "9aa16Puk-if0",
        "colab": {
          "base_uri": "https://localhost:8080/"
        },
        "outputId": "4e28540b-6c50-41c1-db78-bbc243edd0e0"
      },
      "source": [
        "def prepare_text(raw_text):\n",
        "    \"\"\"Preprocesses the text with tokenization, case folding, stemming and lemmatization\n",
        "\n",
        "    Parameters\n",
        "    ----------\n",
        "    raw_text : str\n",
        "        The title or plot of a movie\n",
        "\n",
        "    Returns\n",
        "    -------\n",
        "    list\n",
        "        A list of tokens\n",
        "    \"\"\"\n",
        "\n",
        "    # TODO: tokenize, case_folding, stem, lemmatize\n",
        "    return [\"edvard\", \"am\", \"a\", \"run\", \"he\", \"am\", \"always\", \"run\"]\n",
        "\n",
        "prepare_text(\"Edvard was a Runner. He was always running.\")\n",
        "print(\"Hello this is test\")"
      ],
      "execution_count": 4,
      "outputs": [
        {
          "output_type": "stream",
          "text": [
            "Hello this is test\n"
          ],
          "name": "stdout"
        }
      ]
    },
    {
      "cell_type": "markdown",
      "metadata": {
        "id": "WVhVEO6VARIa"
      },
      "source": [
        "<div dir=\"rtl\">\n",
        "<font face=\"XB Zar\" size=4>\n",
        "    <h1>\n",
        "    <b>شناسایی و حذف stop-words (۵ نمره)</b>\n",
        "    </h1>\n",
        "    این بخش باید توسط خودتان و بدون استفاده از کد آماده پیاده‌سازی شود. ترم‌های موجود در مجموعه دادگان را بر اساس تکرار آن‌ها مرتب کرده و پرتکرارترین آن‌ها را به عنوان stop-words در نظر بگیرید. اینکه چند ترم را به عنوان stop-words در نظر بگیرید به عهده خودتان است.<br>\n",
        "    با فراخوانی تابع ()get_stop_words لیست stop-words به همراه تعداد تکرار آن‌‌ها خروجی داده می‌شود.<br>\n",
        "    ترم‌های به دست آمده از این بخش نباید در نمایه حضور داشته باشند.\n",
        "</font>\n",
        "</div>"
      ]
    },
    {
      "cell_type": "code",
      "metadata": {
        "id": "B-0YxOUeBGDY",
        "colab": {
          "base_uri": "https://localhost:8080/"
        },
        "outputId": "b8e3476a-02af-41dc-b4a3-5c637ffd4118"
      },
      "source": [
        "def get_stop_words():\n",
        "    \"\"\"Detects stop-words\n",
        "\n",
        "    Returns\n",
        "    -------\n",
        "    dict\n",
        "        A dictionary of terms with their repetition\n",
        "    \"\"\"\n",
        "\n",
        "    # TODO: find top most repetitive terms and report them\n",
        "    return {\"a\":1000, \"the\":800, \"am\":500}\n",
        "\n",
        "get_stop_words()"
      ],
      "execution_count": null,
      "outputs": [
        {
          "output_type": "execute_result",
          "data": {
            "text/plain": [
              "{'a': 1000, 'am': 500, 'the': 800}"
            ]
          },
          "metadata": {
            "tags": []
          },
          "execution_count": 50
        }
      ]
    },
    {
      "cell_type": "markdown",
      "metadata": {
        "id": "A4Z02BzNHD1z"
      },
      "source": [
        "<div dir=\"rtl\">\n",
        "<font face=\"XB Zar\" size=4>\n",
        "    <h1>\n",
        "    <b>نمایه‌سازی (۱۵ نمره)</b>\n",
        "    </h1>\n",
        "    در این بخش باید برای سامانه positional index بسازید. برای هر ترم باید مشخص باشد که آن ترم در تایتل چه فیلم‌هایی و در چه جایگاهی از تایتل هر فیلم قرار گرفته است. همچنین برای هر ترم باید مشخص باشد که آن ترم در طرح داستان چه فیلم‌هایی و در چه جایگاهی از طرح داستان هر فیلم قرار گرفته است.<br>\n",
        "     برای ارزیابی بهتر و عادلانه‌تر به ویژه برای ارزیابی بخش فشرده‌سازی، از استاندارد بیان شده در قطعه کد زیر برای ذخیره posting list هر ترم در RAM استفاده کنید.\n",
        "</font>\n",
        "</div>"
      ]
    },
    {
      "cell_type": "code",
      "metadata": {
        "id": "zJy4LiraBm8E",
        "colab": {
          "base_uri": "https://localhost:8080/"
        },
        "outputId": "a740d94d-1896-4a6a-9a28-68b1cb8d32db"
      },
      "source": [
        "def create_positional_index():\n",
        "    \"\"\"Creates positional index for both title and plot\n",
        "    \n",
        "    positional_index = {'term': [title_posting_list, plot_posting_list]}\n",
        "    posting_list = [[doc_1_id, [doc_1_occurrance_index_1, ...]], [doc_2_id, [doc_2_occurrance_index_1, ...]], ...]\n",
        "    doc_ids and doc_occurrence_indexes are sorted\n",
        "\n",
        "\n",
        "    Returns\n",
        "    -------\n",
        "    dict\n",
        "         The created positional_index\n",
        "    \"\"\"\n",
        "\n",
        "    # TODO: create positional index for both title and plot\n",
        "    title_posting_list = [[12, [10]], [123, [5, 6]]]\n",
        "    plot_posting_list = [[1, [1]], [3, [50, 60]]]\n",
        "    positional_index = {'term': [title_posting_list, plot_posting_list]}\n",
        "    return positional_index\n",
        "\n",
        "create_positional_index()"
      ],
      "execution_count": null,
      "outputs": [
        {
          "output_type": "execute_result",
          "data": {
            "text/plain": [
              "{'term': [[[12, [10]], [123, [5, 6]]], [[1, [1]], [3, [50, 60]]]]}"
            ]
          },
          "metadata": {
            "tags": []
          },
          "execution_count": 52
        }
      ]
    },
    {
      "cell_type": "markdown",
      "metadata": {
        "id": "voqMrk4rg1qk"
      },
      "source": [
        "<div dir=\"rtl\">\n",
        "<font face=\"XB Zar\" size=4>\n",
        "    <h1>\n",
        "    <b>پویا‌سازی نمایه (۱۰ نمره)</b>\n",
        "    </h1>\n",
        "    نمایه ایجاد شده باید قابلیت حذف و اضافه تک داکیومنت را داشته باشد.\n",
        "    برای اضافه شدن داکیومنت، به تابع ()add_single_document یک رشته داده می‌شود که اطلاعات مربوط به داکیومنت شامل id و plot و title در آن با کاما جدا شده است. برای حذف داکیومنت نیز id آن به تابع ()remove_single_document داده می‌شود.<br>\n",
        "    تضمین می‌شود که شرط یکتا بودن id داکیومنت‌ها نقض نشود. برای مثال دو داکیومنت با شناسه یکسان به مجموعه اضافه نخواهد شد. البته ممکن است حذف شده و دوباره اضافه شود.\n",
        "</font>\n",
        "</div>"
      ]
    },
    {
      "cell_type": "code",
      "metadata": {
        "id": "e1Ej2n3MB6ef"
      },
      "source": [
        "def add_single_documnet(document):\n",
        "    \"\"\"Adds a document to positional index\n",
        "\n",
        "    Parameters\n",
        "    ----------\n",
        "    document : str\n",
        "        Comma separated string containing id,title,plot in this exact order\n",
        "    \"\"\"\n",
        "\n",
        "    # TODO: implement adding a document to the index\n",
        "    return\n",
        "\n",
        "new_document = \"1234,The Adventures of Sherlock Holmes,The picture begins with Moriarty and Holmes verbally sparring on the steps\"\n",
        "add_single_documnet(new_document)"
      ],
      "execution_count": null,
      "outputs": []
    },
    {
      "cell_type": "code",
      "metadata": {
        "id": "DsarzVzhDoMi"
      },
      "source": [
        "def remove_signle_document(document_id):\n",
        "    \"\"\"removes a document from positional index\n",
        "\n",
        "    Parameters\n",
        "    ----------\n",
        "    document_id : int\n",
        "        Id of the document\n",
        "    \"\"\"\n",
        "\n",
        "    # TODO: implement removing a document from the index\n",
        "    return\n",
        "  \n",
        "remove_signle_document(1234)"
      ],
      "execution_count": null,
      "outputs": []
    },
    {
      "cell_type": "markdown",
      "metadata": {
        "id": "4PBbFcmpXFKD"
      },
      "source": [
        "<div dir=\"rtl\">\n",
        "<font face=\"XB Zar\" size=4>\n",
        "    <h1>\n",
        "    <b>ذخیره و فشرده‌سازی نمایه (۲۰ نمره)</b>\n",
        "    </h1>\n",
        "    در این بخش باید توانایی ذخیره کردن نمایه و بارگذاری مجدد آن را به سامانه اضافه کنید. ذخیره‌سازی به ۳ روش صورت می‌گیرد. بدون فشرده‌سازی، فشرده‌سازی از روش gamma-code و فشرده‌سازی از روش variable-byte. روش‌های فشرده‌سازی باید توسط خودتان پیاده‌سازی شود.\n",
        "    برای ذخیره نمایه در فایل نیز از JSON  استفاده کنید.<br>\n",
        "     بخشی از نمره شما در این قسمت به میزان فشرده‌سازی نمایه اختصاص داده شده است. بنابراین پیاده‌سازی بهینه روش‌های فشرده‌سازی مهم است.\n",
        "</font>\n",
        "</div>"
      ]
    },
    {
      "cell_type": "code",
      "metadata": {
        "id": "zYN9I4_BD178",
        "colab": {
          "base_uri": "https://localhost:8080/"
        },
        "outputId": "4a11351f-d214-495e-eb3f-7dc56863cd58"
      },
      "source": [
        "def store_index(path, compression_type):\n",
        "    \"\"\"Stores the index in a file\n",
        "\n",
        "    Parameters\n",
        "    ----------\n",
        "    path : str\n",
        "        Path to store the file\n",
        "\n",
        "    compression_type : str\n",
        "        Could be one of the followings:\n",
        "        - no-compression\n",
        "        - gamma-code\n",
        "        - variable-byte\n",
        "\n",
        "    Returns\n",
        "    -------\n",
        "    int\n",
        "        The size of the stored file\n",
        "    \"\"\"\n",
        "\n",
        "    # TODO: compress and store positional_index\n",
        "    size_of_file = 1024\n",
        "    return size_of_file\n",
        "\n",
        "store_index(\"path/to/file.json\", \"no-compression\")"
      ],
      "execution_count": null,
      "outputs": [
        {
          "output_type": "execute_result",
          "data": {
            "text/plain": [
              "1024"
            ]
          },
          "metadata": {
            "tags": []
          },
          "execution_count": 55
        }
      ]
    },
    {
      "cell_type": "code",
      "metadata": {
        "id": "3Dm38ZXHFQVH"
      },
      "source": [
        "def load_index(path, compression_type):\n",
        "    \"\"\"Loads the index from a file\n",
        "\n",
        "    Parameters\n",
        "    ----------\n",
        "    path : str\n",
        "        Path of the file to load from\n",
        "\n",
        "    compression_type : str\n",
        "        Could be one of the followings:\n",
        "        - no-compression\n",
        "        - gamma-code\n",
        "        - variable-byte\n",
        "    \"\"\"\n",
        "\n",
        "    # TODO: load and decompress positional_index\n",
        "    return\n",
        "\n",
        "load_index(\"path/to/file.json\", \"no-compression\")"
      ],
      "execution_count": null,
      "outputs": []
    },
    {
      "cell_type": "markdown",
      "metadata": {
        "id": "4i-iLvu2nh2k"
      },
      "source": [
        "<div dir=\"rtl\">\n",
        "<font face=\"XB Zar\" size=4>\n",
        "    <h1>\n",
        "    <b>اصلاح پرسمان (۱۵ نمره امتیازی)</b>\n",
        "    </h1>\n",
        "    در صورتی که پرسمان ورودی دارای غلط املایی باشد یا به عبارتی لغاتی از آن در لغت‌نامه موجود نباشد، لازم است که با جستجوی لغت‌های احتمالی و انتخاب بهترین لغت به ادامه‌ی جستجو با پرسمان اصلاح شده پرداخته شود. برای اینکار ابتدا باید با روش bigram و معیار jaccard نزدیک‌ترین لغات به لغت با غلط املایی را پیدا کنید. سپس با استفاده از معیار edit distance بهترین لغت را از میان آن‌ها بیابید.<br>\n",
        "    نیازی به ذخیره‌سازی و فشرده‌سازی نمایه بایگرم نیست. همچنین می‌توانید از کد آماده برای محاسبه edit distance استفاده کنید.\n",
        "</font>\n",
        "</div>"
      ]
    },
    {
      "cell_type": "code",
      "metadata": {
        "id": "qMZTstsbL1G3"
      },
      "source": [
        "def create_bigram_index():\n",
        "    \"\"\"Creates the bigram index for spell correction\"\"\"\n",
        "\n",
        "    # TODO: create bigram index\n",
        "    bigram = {\"he\": [\"hello\", \"hell\", \"he\", \"her\"], \"el\": [\"telephone\", \"else\"]}\n",
        "    return bigram\n",
        "\n",
        "create_bigram_index()"
      ],
      "execution_count": null,
      "outputs": []
    },
    {
      "cell_type": "code",
      "metadata": {
        "id": "sL3E8C-nL1yG",
        "colab": {
          "base_uri": "https://localhost:8080/",
          "height": 35
        },
        "outputId": "d4da236e-728c-4419-e80e-e8a36bd4e85d"
      },
      "source": [
        "def get_corrected_text(raw_text):\n",
        "    \"\"\"Corrects the query\n",
        "\n",
        "    Parameters\n",
        "    ----------\n",
        "    raw_text : str\n",
        "        Input text that could be a title or a plot\n",
        "\n",
        "    Returns\n",
        "    -------\n",
        "    str\n",
        "        The corrected text\n",
        "    \"\"\"\n",
        "\n",
        "    # TODO: correct the query using bigram, jaccard, and edit-distance\n",
        "    corrected_text = \"the adventure of sherlock holmes\"\n",
        "    return corrected_text\n",
        "\n",
        "get_corrected_text(\"the adevntures of herlock holmes\")"
      ],
      "execution_count": null,
      "outputs": [
        {
          "output_type": "execute_result",
          "data": {
            "application/vnd.google.colaboratory.intrinsic+json": {
              "type": "string"
            },
            "text/plain": [
              "'the adventure of sherlock holmes'"
            ]
          },
          "metadata": {
            "tags": []
          },
          "execution_count": 58
        }
      ]
    },
    {
      "cell_type": "markdown",
      "metadata": {
        "id": "-BWhdHJbs1zy"
      },
      "source": [
        "<div dir=\"rtl\">\n",
        "<font face=\"XB Zar\" size=4>\n",
        "    <h1>\n",
        "    <b>جستجو و بازیابی اسناد (۲۵ نمره)</b>\n",
        "    </h1>\n",
        "    در این بخش جستجو ترتیب‌دار در فضای برداری tf-idf به روش <b>lnn-ltn</b> انجام می‌شود. یک پرسمان title و یک پرسمان plot ورودی گرفته شده و هر کدام در بخش مربوطه از اسناد جستجو می‌شوند. امتیاز نهایی هر سند برابر با جمع وزن‌دار امتیاز به دست آمده از جستجو در بخش title و plot است. به این صورت که وزن plot واحد در نظر گرفته شده و وزن تایتل به عنوان ورودی داده می‌شود.<br>\n",
        "    در نهایت اسناد برتر را نمایش دهید. تعداد حداکثر اسناد برتر نیز به عنوان ورودی داده می‌شود.<br><br>\n",
        "    نکته بسیار مهم نحوه نمایش اسناد انتخابی است. برای نمایش هر سند علاوه بر استفاده از شناسه و تیتر، یک هایلایت برای آن درست کنید. به این معنا که کلمات موجود در پرسمان را که باعث انتخاب سند شده‌اند به همراه ۲-۳ ترم قبل و بعد از آن به عنوان هایلایت آن سند نمایش دهید. اینگونه کاربر می‌تواند خیلی سریع دلیل بازیابی اسناد توسط سامانه را متوجه شود. مشابه کاری که سرچ گوگل انجام می‌دهد و ۲-۳ خط مربوطه را زیر وبسایت‌های پیشنهادی نمایش می‌دهد. طبیعتا راه حل بهینه برای این‌کار استفاده از قابلیت‌های نمایه جایگاهی می‌باشد.<br>\n",
        "</font>\n",
        "</div>"
      ]
    },
    {
      "cell_type": "code",
      "metadata": {
        "id": "R0R2i_O4Gev_",
        "colab": {
          "base_uri": "https://localhost:8080/"
        },
        "outputId": "7f57be29-eec0-489e-dd61-74d67c923106"
      },
      "source": [
        "def search(title_query, plot_query, title_weight, max_result_count=10):\n",
        "    \"\"\"Finds relevant documents to query\n",
        "\n",
        "    Parameters\n",
        "    ----------\n",
        "    title_query : str\n",
        "        Query to search in titles\n",
        "\n",
        "    plot_query : str\n",
        "        Query to search in plots\n",
        "\n",
        "    title_weight : int\n",
        "        Defines the significance of title\n",
        "\n",
        "    max_result_count : int\n",
        "        Max number of retrieved documents\n",
        "    \n",
        "    Returns\n",
        "    -------\n",
        "    list\n",
        "        Retreived documents with snippet\n",
        "    \"\"\"\n",
        "\n",
        "    # TODO: implement lnc-ltc search and show results with highlight\n",
        "    doc_id = 1\n",
        "    title = \"Call <b>wild</b>\"\n",
        "    highlight = \"<b>florence</b> lawrence already most <b>popular</b> among biograph \"\n",
        "    return [\n",
        "            [doc_id, title, highlight],\n",
        "            [doc_id, title, highlight],\n",
        "            [doc_id, title, highlight],\n",
        "    ]\n",
        "\n",
        "search(\"wild\", \"Florence popular\", 10, 3)"
      ],
      "execution_count": null,
      "outputs": [
        {
          "output_type": "execute_result",
          "data": {
            "text/plain": [
              "[[1,\n",
              "  'Call <b>wild</b>',\n",
              "  '<b>florence</b> lawrence already most <b>popular</b> among biograph '],\n",
              " [1,\n",
              "  'Call <b>wild</b>',\n",
              "  '<b>florence</b> lawrence already most <b>popular</b> among biograph '],\n",
              " [1,\n",
              "  'Call <b>wild</b>',\n",
              "  '<b>florence</b> lawrence already most <b>popular</b> among biograph ']]"
            ]
          },
          "metadata": {
            "tags": []
          },
          "execution_count": 59
        }
      ]
    },
    {
      "cell_type": "markdown",
      "metadata": {
        "id": "gBig369C6wSC"
      },
      "source": [
        "<div dir=\"rtl\">\n",
        "<font face=\"XB Zar\" size=4>\n",
        "    <h1>\n",
        "    <b>ارزیابی عملکرد سامانه (۱۰ نمره)</b>\n",
        "    </h1>\n",
        "    همانطور که در بخش مربوط به مجموعه دادگان گفته شد، تعدادی پرسمان نمونه به همراه اسناد مورد نظر برای آن‌ها در اختیار شما قرار گرفته است. در هر مورد اطلاعات لازم برای ایجاد یک پرسمان ذکر شده است. مطابق آن‌ها پرسمان خود را ایجاد کنید. نتایج به دست آمده از هر پرسمان را به عنوان predicted results آن پرسمان در نظر بگیرید. همچنین در هر مورد لیستی از شناسه‌ها وجود دارد. این لیست را به عنوان actual results در نظر بگیرید. <br>\n",
        "    معیار‌های زیر را پیاده‌سازی کنید (بدون استفاده از کد آماده) و نتیجه این معیارها را روی مجموعه‌ی actual و predicted گزارش کنید. دقت کنید که به ازای هر پرسمان باید تمام معیارها را در قالب یک جدول گزارش کنید.<br> دقت کنید که ۳ پرسمان آخر فقط برای افرادی که بخش spell correction را پیاده کرد‌ه‌اند نتیجه مطلوب دارد.\n",
        "</font>\n",
        "</div>"
      ]
    },
    {
      "cell_type": "code",
      "metadata": {
        "id": "aPfEVezQIsmb",
        "colab": {
          "base_uri": "https://localhost:8080/"
        },
        "outputId": "28b08705-5d4f-47e6-baec-3372f3e3293c"
      },
      "source": [
        "def precision(actual, predicted):\n",
        "    \"\"\"Calculate precision\n",
        "\n",
        "    Parameters\n",
        "    ----------\n",
        "    actual : list\n",
        "        [1st_doc_id, 2nd_doc_id, ...]\n",
        "\n",
        "    predicted : list\n",
        "        [1st_doc_id, 2nd_doc_id, ...]\n",
        "\n",
        "    Returns\n",
        "    -------\n",
        "    float\n",
        "        Precision score\n",
        "    \"\"\"\n",
        "\n",
        "    # TODO: implement precision\n",
        "    precision = 0.3333\n",
        "    return precision\n",
        "\n",
        "precision([1,2], [1, 4, 5])"
      ],
      "execution_count": null,
      "outputs": [
        {
          "output_type": "execute_result",
          "data": {
            "text/plain": [
              "0.3333"
            ]
          },
          "metadata": {
            "tags": []
          },
          "execution_count": 70
        }
      ]
    },
    {
      "cell_type": "code",
      "metadata": {
        "id": "is4nfSw1LQoQ",
        "colab": {
          "base_uri": "https://localhost:8080/"
        },
        "outputId": "cc2a4388-464b-4d67-cb86-32617e3e526d"
      },
      "source": [
        "def recall(actual, predicted):\n",
        "    \"\"\"Calculate recall\n",
        "\n",
        "    Parameters\n",
        "    ----------\n",
        "    actual : list\n",
        "        [1st_doc_id, 2nd_doc_id, ...]\n",
        "\n",
        "    predicted : list\n",
        "        [1st_doc_id, 2nd_doc_id, ...]\n",
        "    \n",
        "    Returns\n",
        "    -------\n",
        "    float\n",
        "        Recall score\n",
        "    \"\"\"\n",
        "\n",
        "    # TODO: implement recall\n",
        "    recall = 0.5\n",
        "    return recall\n",
        "\n",
        "recall([1,2], [1, 4, 5])"
      ],
      "execution_count": null,
      "outputs": [
        {
          "output_type": "execute_result",
          "data": {
            "text/plain": [
              "0.5"
            ]
          },
          "metadata": {
            "tags": []
          },
          "execution_count": 69
        }
      ]
    },
    {
      "cell_type": "code",
      "metadata": {
        "id": "eYHYwRgTLVRA",
        "colab": {
          "base_uri": "https://localhost:8080/"
        },
        "outputId": "d749daf0-102d-4855-e292-21dcd137d6be"
      },
      "source": [
        "def f1_score(actual, predicted):\n",
        "    \"\"\"Calculate f1_score\n",
        "\n",
        "    Parameters\n",
        "    ----------\n",
        "    actual : list\n",
        "        [1st_doc_id, 2nd_doc_id, ...]\n",
        "\n",
        "    predicted : list\n",
        "        [1st_doc_id, 2nd_doc_id, ...]\n",
        "    \n",
        "    Returns\n",
        "    -------\n",
        "    float\n",
        "        f1_score\n",
        "    \"\"\"\n",
        "\n",
        "    # TODO: implement f1_score\n",
        "    f1_score = 0.4\n",
        "    return f1_score\n",
        "\n",
        "f1_score([1,2], [1, 4, 5])"
      ],
      "execution_count": null,
      "outputs": [
        {
          "output_type": "execute_result",
          "data": {
            "text/plain": [
              "0.4"
            ]
          },
          "metadata": {
            "tags": []
          },
          "execution_count": 68
        }
      ]
    },
    {
      "cell_type": "code",
      "metadata": {
        "id": "bZg-_PUPLZ31",
        "colab": {
          "base_uri": "https://localhost:8080/"
        },
        "outputId": "e85b9efa-3b9b-470e-8b93-f474585da6c9"
      },
      "source": [
        "def map_score(actual, predicted):\n",
        "    \"\"\"Calculate map_score\n",
        "\n",
        "    Parameters\n",
        "    ----------\n",
        "    actual : list\n",
        "        [1st_doc_id, 2nd_doc_id, ...]\n",
        "\n",
        "    predicted : list\n",
        "        [1st_doc_id, 2nd_doc_id, ...]\n",
        "    \n",
        "    Returns\n",
        "    -------\n",
        "    float\n",
        "        map_score\n",
        "    \"\"\"\n",
        "\n",
        "    # TODO: implement map_score\n",
        "    map_score = 0.4\n",
        "    return map_score\n",
        "\n",
        "map_score([1,2], [1, 4, 5])"
      ],
      "execution_count": null,
      "outputs": [
        {
          "output_type": "execute_result",
          "data": {
            "text/plain": [
              "0.4"
            ]
          },
          "metadata": {
            "tags": []
          },
          "execution_count": 67
        }
      ]
    },
    {
      "cell_type": "code",
      "metadata": {
        "id": "OgOKEbMNLf-r",
        "colab": {
          "base_uri": "https://localhost:8080/"
        },
        "outputId": "b38f683a-7224-411b-efb4-8fe7ce4eb328"
      },
      "source": [
        "def ndcg_score(actual, predicted):\n",
        "    \"\"\"Calculate ndcg_score\n",
        "\n",
        "    Parameters\n",
        "    ----------\n",
        "    actual : list\n",
        "        [1st_doc_id, 2nd_doc_id, ...]\n",
        "\n",
        "    predicted : list\n",
        "        [1st_doc_id, 2nd_doc_id, ...]\n",
        "    \n",
        "    Returns\n",
        "    -------\n",
        "    float\n",
        "        ndcg_score\n",
        "    \"\"\"\n",
        "\n",
        "    # TODO: implement recall\n",
        "    ndcg_score = 0.4\n",
        "    return ndcg_score\n",
        "\n",
        "ndcg_score([1,2], [1, 4, 5])"
      ],
      "execution_count": null,
      "outputs": [
        {
          "output_type": "execute_result",
          "data": {
            "text/plain": [
              "0.4"
            ]
          },
          "metadata": {
            "tags": []
          },
          "execution_count": 66
        }
      ]
    },
    {
      "cell_type": "markdown",
      "metadata": {
        "id": "SHVlw0kVBUW4"
      },
      "source": [
        "<div dir=\"rtl\">\n",
        "<font face=\"XB Zar\" size=4>\n",
        "    <h1>\n",
        "    <b>نکات پایانی</b>\n",
        "    </h1>\n",
        "    \n",
        "\n",
        "1.   سیستم را بهینه پیاده‌سازی کنید تا در زمان کمتری بارگذاری و نمایه‌سازی  انجام شود.\n",
        "2.   تمام قطعه‌ کدهای بالا باید توسط شما تکمیل شود. نوت‌بوک نهایی باید بدون خطا اجرا شود. اگر تمام کدهای استفاده شده در همین فایل نیست،‌ حتما آن‌ها را نیز به همراه نوت‌بوک در کوئرا آپلود کنید.\n",
        "3.    اسم توابع و نحوه ورودی گرفتن و خروجی دادن آن‌ها را تغییر ندهید. بقیه اجزای توابع صرفا برای شهود بیشتر شما نوشته شده‌اند و نیازی به نگه‌داری آن‌ها نیست.\n",
        "4.   در صورت امکان استفاده از کد آماده مشخصا این مورد برای بخش مربوطه ذکر شده است. اگر چیزی در این مورد ذکر نشده نمی‌توانید از کد آماده استفاده کنید.\n",
        "5.    فایل داده‌ها را در کوئرا آپلود نکنید.\n",
        "6.    فایل زیپ نهایی و فایل نوت‌بوک حتما به فرمت StudentNumber_phase1 نامگذاری شود.\n",
        "\n",
        "\n",
        "<b>سالم و موفق باشید.</b>\n",
        "\n",
        "</font>\n",
        "</div>"
      ]
    }
  ]
}